{
  "cells": [
    {
      "cell_type": "markdown",
      "metadata": {
        "id": "view-in-github",
        "colab_type": "text"
      },
      "source": [
        "<a href=\"https://colab.research.google.com/github/Sidhtang/bert-project/blob/main/Automated_Image_Captioning_(Flickr8).ipynb\" target=\"_parent\"><img src=\"https://colab.research.google.com/assets/colab-badge.svg\" alt=\"Open In Colab\"/></a>"
      ]
    },
    {
      "source": [
        "\n",
        "# IMPORTANT: RUN THIS CELL IN ORDER TO IMPORT YOUR KAGGLE DATA SOURCES\n",
        "# TO THE CORRECT LOCATION (/kaggle/input) IN YOUR NOTEBOOK,\n",
        "# THEN FEEL FREE TO DELETE THIS CELL.\n",
        "# NOTE: THIS NOTEBOOK ENVIRONMENT DIFFERS FROM KAGGLE'S PYTHON\n",
        "# ENVIRONMENT SO THERE MAY BE MISSING LIBRARIES USED BY YOUR\n",
        "# NOTEBOOK.\n",
        "\n",
        "import os\n",
        "import sys\n",
        "from tempfile import NamedTemporaryFile\n",
        "from urllib.request import urlopen\n",
        "from urllib.parse import unquote, urlparse\n",
        "from urllib.error import HTTPError\n",
        "from zipfile import ZipFile\n",
        "import tarfile\n",
        "import shutil\n",
        "\n",
        "CHUNK_SIZE = 40960\n",
        "DATA_SOURCE_MAPPING = ':https%3A%2F%2Fstorage.googleapis.com%2Fkaggle-data-sets%2F145129%2F338971%2Fbundle%2Farchive.zip%3FX-Goog-Algorithm%3DGOOG4-RSA-SHA256%26X-Goog-Credential%3Dgcp-kaggle-com%2540kaggle-161607.iam.gserviceaccount.com%252F20240715%252Fauto%252Fstorage%252Fgoog4_request%26X-Goog-Date%3D20240715T175741Z%26X-Goog-Expires%3D259200%26X-Goog-SignedHeaders%3Dhost%26X-Goog-Signature%3Db4a20fcf28de2aa85277bafaf62428ea12a1beadea66700571e9897e85396318e1149dba280eb80c9b7ca1b6bbcd2d95bad5c59e3e3cf6f8469064dcd89f7e92a0367c6c0c98d063afcf268552830b10d5ac27e1074158f9e41c5b9ecf9770360ba372823c45ff11110d1b0739a329abbfaee81820edf6fc3e9202779de7a223b72c3b24408fa57470757da327af1cae235944b088171cbe678df40695dfc7019907036bca0321243e7a593fc0c9fe5635eb8c39616a358c94aaa7644f168afef8255cf44edcc1303a34eafc6bb8fba5a52706dd1cab8f16371d3d8703a3961993b5b4dc3ff56600d6bba33b7a277dfa2e46d32496a73808bbdcd8b3bd801ed6'\n",
        "\n",
        "KAGGLE_INPUT_PATH='/kaggle/input'\n",
        "KAGGLE_WORKING_PATH='/kaggle/working'\n",
        "KAGGLE_SYMLINK='kaggle'\n",
        "\n",
        "!umount /kaggle/input/ 2> /dev/null\n",
        "shutil.rmtree('/kaggle/input', ignore_errors=True)\n",
        "os.makedirs(KAGGLE_INPUT_PATH, 0o777, exist_ok=True)\n",
        "os.makedirs(KAGGLE_WORKING_PATH, 0o777, exist_ok=True)\n",
        "\n",
        "try:\n",
        "  os.symlink(KAGGLE_INPUT_PATH, os.path.join(\"..\", 'input'), target_is_directory=True)\n",
        "except FileExistsError:\n",
        "  pass\n",
        "try:\n",
        "  os.symlink(KAGGLE_WORKING_PATH, os.path.join(\"..\", 'working'), target_is_directory=True)\n",
        "except FileExistsError:\n",
        "  pass\n",
        "\n",
        "for data_source_mapping in DATA_SOURCE_MAPPING.split(','):\n",
        "    directory, download_url_encoded = data_source_mapping.split(':')\n",
        "    download_url = unquote(download_url_encoded)\n",
        "    filename = urlparse(download_url).path\n",
        "    destination_path = os.path.join(KAGGLE_INPUT_PATH, directory)\n",
        "    try:\n",
        "        with urlopen(download_url) as fileres, NamedTemporaryFile() as tfile:\n",
        "            total_length = fileres.headers['content-length']\n",
        "            print(f'Downloading {directory}, {total_length} bytes compressed')\n",
        "            dl = 0\n",
        "            data = fileres.read(CHUNK_SIZE)\n",
        "            while len(data) > 0:\n",
        "                dl += len(data)\n",
        "                tfile.write(data)\n",
        "                done = int(50 * dl / int(total_length))\n",
        "                sys.stdout.write(f\"\\r[{'=' * done}{' ' * (50-done)}] {dl} bytes downloaded\")\n",
        "                sys.stdout.flush()\n",
        "                data = fileres.read(CHUNK_SIZE)\n",
        "            if filename.endswith('.zip'):\n",
        "              with ZipFile(tfile) as zfile:\n",
        "                zfile.extractall(destination_path)\n",
        "            else:\n",
        "              with tarfile.open(tfile.name) as tarfile:\n",
        "                tarfile.extractall(destination_path)\n",
        "            print(f'\\nDownloaded and uncompressed: {directory}')\n",
        "    except HTTPError as e:\n",
        "        print(f'Failed to load (likely expired) {download_url} to path {destination_path}')\n",
        "        continue\n",
        "    except OSError as e:\n",
        "        print(f'Failed to load {download_url} to path {destination_path}')\n",
        "        continue\n",
        "\n",
        "print('Data source import complete.')\n"
      ],
      "metadata": {
        "id": "JIPyya3fjod7"
      },
      "cell_type": "code",
      "outputs": [],
      "execution_count": null
    },
    {
      "metadata": {
        "_cell_guid": "79c7e3d0-c299-4dcb-8224-4455121ee9b0",
        "_uuid": "d629ff2d2480ee46fbb7e2d37f6b5fab8052498a",
        "trusted": true,
        "id": "HthmRJ0bjod9"
      },
      "cell_type": "code",
      "source": [
        "# Load libraries\n",
        "import matplotlib.pyplot as plt\n",
        "import pandas as pd\n",
        "import pickle\n",
        "import numpy as np\n",
        "import os\n",
        "from keras.applications.resnet50 import ResNet50\n",
        "from keras.optimizers import Adam\n",
        "from keras.layers import Dense, Flatten,Input, Convolution2D, Dropout, LSTM, TimeDistributed, Embedding, Bidirectional, Activation, RepeatVector,Concatenate\n",
        "from keras.models import Sequential, Model\n",
        "from keras.utils import np_utils\n",
        "import random\n",
        "from keras.preprocessing import image, sequence\n",
        "import matplotlib.pyplot as plt"
      ],
      "execution_count": null,
      "outputs": []
    },
    {
      "metadata": {
        "trusted": true,
        "_uuid": "b4bcb570212a1d3302c245c83c342bc59503fb66",
        "id": "8LlmT81Qjod9"
      },
      "cell_type": "code",
      "source": [
        "# Load data\n",
        "images_dir = os.listdir(\"../input/flickr_data/Flickr_Data/\")\n",
        "\n",
        "images_path = '../input/flickr_data/Flickr_Data/Images/'\n",
        "captions_path = '../input/flickr_data/Flickr_Data/Flickr_TextData/Flickr8k.token.txt'\n",
        "train_path = '../input/flickr_data/Flickr_Data/Flickr_TextData/Flickr_8k.trainImages.txt'\n",
        "val_path = '../input/flickr_data/Flickr_Data/Flickr_TextData/Flickr_8k.devImages.txt'\n",
        "test_path = '../input/flickr_data/Flickr_Data/Flickr_TextData/Flickr_8k.testImages.txt'\n",
        "\n",
        "captions = open(captions_path, 'r').read().split(\"\\n\")\n",
        "x_train = open(train_path, 'r').read().split(\"\\n\")\n",
        "x_val = open(val_path, 'r').read().split(\"\\n\")\n",
        "x_test = open(test_path, 'r').read().split(\"\\n\")"
      ],
      "execution_count": null,
      "outputs": []
    },
    {
      "metadata": {
        "trusted": true,
        "_uuid": "1daa3e746dd354c8bdb5b9dbe18fbf8234c5e171",
        "id": "liTy8TF9jod-"
      },
      "cell_type": "code",
      "source": [
        "# Loading captions as values and images as key in dictionary\n",
        "tokens = {}\n",
        "\n",
        "for ix in range(len(captions)-1):\n",
        "    temp = captions[ix].split(\"#\")\n",
        "    if temp[0] in tokens:\n",
        "        tokens[temp[0]].append(temp[1][2:])\n",
        "    else:\n",
        "        tokens[temp[0]] = [temp[1][2:]]"
      ],
      "execution_count": null,
      "outputs": []
    },
    {
      "metadata": {
        "trusted": true,
        "_uuid": "544e582b0cdc6f1aca9d26a3304decf4ea33c0ba",
        "id": "E1Jzb_lTjod-"
      },
      "cell_type": "code",
      "source": [
        "# displaying an image and captions given to it\n",
        "temp = captions[10].split(\"#\")\n",
        "from IPython.display import Image, display\n",
        "z = Image(filename=images_path+temp[0])\n",
        "display(z)\n",
        "\n",
        "for ix in range(len(tokens[temp[0]])):\n",
        "    print(tokens[temp[0]][ix])"
      ],
      "execution_count": null,
      "outputs": []
    },
    {
      "metadata": {
        "trusted": true,
        "_uuid": "a403f68bd34c57de30c1df0414908d83be5f8f3e",
        "scrolled": true,
        "id": "JwqdMWjhjod-"
      },
      "cell_type": "code",
      "source": [
        "# Creating train, test and validation dataset files with header as 'image_id' and 'captions'\n",
        "train_dataset = open('flickr_8k_train_dataset.txt','wb')\n",
        "train_dataset.write(b\"image_id\\tcaptions\\n\")\n",
        "\n",
        "val_dataset = open('flickr_8k_val_dataset.txt','wb')\n",
        "val_dataset.write(b\"image_id\\tcaptions\\n\")\n",
        "\n",
        "test_dataset = open('flickr_8k_test_dataset.txt','wb')\n",
        "test_dataset.write(b\"image_id\\tcaptions\\n\")"
      ],
      "execution_count": null,
      "outputs": []
    },
    {
      "metadata": {
        "trusted": true,
        "_uuid": "b8950e40417acb1ea4708f85a29583bc00fc1bab",
        "id": "pMkj7PMBjod-"
      },
      "cell_type": "code",
      "source": [
        "# Populating the above created files for train, test and validation dataset with image ids and captions for each of these images\n",
        "for img in x_train:\n",
        "    if img == '':\n",
        "        continue\n",
        "    for capt in tokens[img]:\n",
        "        caption = \"<start> \"+ capt + \" <end>\"\n",
        "        train_dataset.write((img+\"\\t\"+caption+\"\\n\").encode())\n",
        "        train_dataset.flush()\n",
        "train_dataset.close()\n",
        "\n",
        "for img in x_test:\n",
        "    if img == '':\n",
        "        continue\n",
        "    for capt in tokens[img]:\n",
        "        caption = \"<start> \"+ capt + \" <end>\"\n",
        "        test_dataset.write((img+\"\\t\"+caption+\"\\n\").encode())\n",
        "        test_dataset.flush()\n",
        "test_dataset.close()\n",
        "\n",
        "for img in x_val:\n",
        "    if img == '':\n",
        "        continue\n",
        "    for capt in tokens[img]:\n",
        "        caption = \"<start> \"+ capt + \" <end>\"\n",
        "        val_dataset.write((img+\"\\t\"+caption+\"\\n\").encode())\n",
        "        val_dataset.flush()\n",
        "val_dataset.close()"
      ],
      "execution_count": null,
      "outputs": []
    },
    {
      "metadata": {
        "trusted": true,
        "_uuid": "d90e1026c8ae80a62bc96d6e6dcfe581360d0e31",
        "scrolled": false,
        "id": "dqHyvAUmjod-"
      },
      "cell_type": "code",
      "source": [
        "# Loading 50 layer Residual Network Model and getting the summary of the model\n",
        "from IPython.core.display import display, HTML\n",
        "display(HTML(\"\"\"<a href=\"http://ethereon.github.io/netscope/#/gist/db945b393d40bfa26006\">ResNet50 Architecture</a>\"\"\"))\n",
        "model = ResNet50(include_top=False,weights='imagenet',input_shape=(224,224,3),pooling='avg')\n",
        "model.summary()\n",
        "# Note: For more details on ResNet50 architecture you can click on hyperlink given below"
      ],
      "execution_count": null,
      "outputs": []
    },
    {
      "metadata": {
        "trusted": true,
        "_uuid": "29cbce6fb4df495d99aa2b4a5cecd3a0cd5c27cb",
        "id": "VOTEXlrGjod-"
      },
      "cell_type": "code",
      "source": [
        "# Helper function to process images\n",
        "def preprocessing(img_path):\n",
        "    im = image.load_img(img_path, target_size=(224,224,3))\n",
        "    im = image.img_to_array(im)\n",
        "    im = np.expand_dims(im, axis=0)\n",
        "    return im"
      ],
      "execution_count": null,
      "outputs": []
    },
    {
      "metadata": {
        "trusted": true,
        "_uuid": "cded3b69e4c6ae1d409261f0447f0b4a5bf472da",
        "id": "RDZ_KtyWjod_"
      },
      "cell_type": "code",
      "source": [
        "train_data = {}\n",
        "ctr=0\n",
        "for ix in x_train:\n",
        "    if ix == \"\":\n",
        "        continue\n",
        "    if ctr >= 3000:\n",
        "        break\n",
        "    ctr+=1\n",
        "    if ctr%1000==0:\n",
        "        print(ctr)\n",
        "    path = images_path + ix\n",
        "    img = preprocessing(path)\n",
        "    pred = model.predict(img).reshape(2048)\n",
        "    train_data[ix] = pred"
      ],
      "execution_count": null,
      "outputs": []
    },
    {
      "metadata": {
        "trusted": true,
        "scrolled": true,
        "_uuid": "88e4ffcb875f7411047145fe892f04180d7ff1d4",
        "id": "6v9DtkbYjod_"
      },
      "cell_type": "code",
      "source": [
        "train_data['2513260012_03d33305cf.jpg'].shape"
      ],
      "execution_count": null,
      "outputs": []
    },
    {
      "metadata": {
        "trusted": true,
        "_uuid": "6a66b099e752b47e827649aabfdacadc10396bc6",
        "id": "Z68Y-f_njod_"
      },
      "cell_type": "code",
      "source": [
        "# opening train_encoded_images.p file and dumping it's content\n",
        "with open( \"train_encoded_images.p\", \"wb\" ) as pickle_f:\n",
        "    pickle.dump(train_data, pickle_f )"
      ],
      "execution_count": null,
      "outputs": []
    },
    {
      "metadata": {
        "trusted": true,
        "_uuid": "42f5acd4b13449ebce4c76db2f0558ec51638c89",
        "scrolled": true,
        "id": "hlrGBhJWjoeA"
      },
      "cell_type": "code",
      "source": [
        "# Loading image and its corresponding caption into a dataframe and then storing values from dataframe into 'ds'\n",
        "pd_dataset = pd.read_csv(\"flickr_8k_train_dataset.txt\", delimiter='\\t')\n",
        "ds = pd_dataset.values\n",
        "print(ds.shape)"
      ],
      "execution_count": null,
      "outputs": []
    },
    {
      "metadata": {
        "trusted": true,
        "_uuid": "02b4cd3a78f62bf5f224272d9100b88fe749ff61",
        "id": "dlHsnp1fjoeA"
      },
      "cell_type": "code",
      "source": [
        "pd_dataset.head()"
      ],
      "execution_count": null,
      "outputs": []
    },
    {
      "metadata": {
        "_cell_guid": "79c7e3d0-c299-4dcb-8224-4455121ee9b0",
        "_uuid": "d629ff2d2480ee46fbb7e2d37f6b5fab8052498a",
        "trusted": true,
        "id": "ZQnojM19joeA"
      },
      "cell_type": "code",
      "source": [
        "# Storing all the captions from ds into a list\n",
        "sentences = []\n",
        "for ix in range(ds.shape[0]):\n",
        "    sentences.append(ds[ix, 1])\n",
        "\n",
        "print(len(sentences))"
      ],
      "execution_count": null,
      "outputs": []
    },
    {
      "metadata": {
        "trusted": true,
        "_uuid": "7b8614bf361eda776f6b320703222d20ab26d4f6",
        "id": "OY_JXeK9joeA"
      },
      "cell_type": "code",
      "source": [
        "# First 5 captions stored in sentences\n",
        "sentences[:5]"
      ],
      "execution_count": null,
      "outputs": []
    },
    {
      "metadata": {
        "trusted": true,
        "_uuid": "59d61c186da1dc0c16caf398c4a3791ebeb09fbf",
        "id": "wSVVqNRrjoeA"
      },
      "cell_type": "code",
      "source": [
        "# Splitting each captions stored in 'sentences' and storing them in 'words' as list of list\n",
        "words = [i.split() for i in sentences]"
      ],
      "execution_count": null,
      "outputs": []
    },
    {
      "metadata": {
        "trusted": true,
        "_uuid": "19e3565c96f6a995494d5d8f30fd15bbb5b9c354",
        "id": "Sar4KKimjoeA"
      },
      "cell_type": "code",
      "source": [
        "# Creating a list of all unique words\n",
        "unique = []\n",
        "for i in words:\n",
        "    unique.extend(i)\n",
        "unique = list(set(unique))\n",
        "\n",
        "print(len(unique))\n",
        "\n",
        "vocab_size = len(unique)"
      ],
      "execution_count": null,
      "outputs": []
    },
    {
      "metadata": {
        "trusted": true,
        "_uuid": "d33b0d8b93e182f64d650e8186574cc53210e2d2",
        "id": "-A3kB0CGjoeA"
      },
      "cell_type": "code",
      "source": [
        "# Vectorization\n",
        "word_2_indices = {val:index for index, val in enumerate(unique)}\n",
        "indices_2_word = {index:val for index, val in enumerate(unique)}"
      ],
      "execution_count": null,
      "outputs": []
    },
    {
      "metadata": {
        "trusted": true,
        "_uuid": "151cb9679ef157e69a1ccce86ba1d16e615ee9d2",
        "id": "Om44qXDNjoeA"
      },
      "cell_type": "code",
      "source": [
        "word_2_indices['UNK'] = 0\n",
        "word_2_indices['raining'] = 8253"
      ],
      "execution_count": null,
      "outputs": []
    },
    {
      "metadata": {
        "trusted": true,
        "_uuid": "845f440a23b97b5f4baad958d864329820b4c3a0",
        "id": "2uwCSUrnjoeA"
      },
      "cell_type": "code",
      "source": [
        "indices_2_word[0] = 'UNK'\n",
        "indices_2_word[8253] = 'raining'"
      ],
      "execution_count": null,
      "outputs": []
    },
    {
      "metadata": {
        "trusted": true,
        "_uuid": "00938f733d8843863480b8c4caef969e1db8bf2e",
        "id": "QQTLsG2VjoeB"
      },
      "cell_type": "code",
      "source": [
        "print(word_2_indices['<start>'])\n",
        "print(indices_2_word[4011])\n",
        "print(word_2_indices['<end>'])\n",
        "print(indices_2_word[8051])"
      ],
      "execution_count": null,
      "outputs": []
    },
    {
      "metadata": {
        "trusted": true,
        "_uuid": "e485745da8adc3ccf73a8e0d4671dd8f3be53c36",
        "id": "3eeWAxaLjoeB"
      },
      "cell_type": "code",
      "source": [
        "vocab_size = len(word_2_indices.keys())\n",
        "print(vocab_size)"
      ],
      "execution_count": null,
      "outputs": []
    },
    {
      "metadata": {
        "trusted": true,
        "_uuid": "6f3fdd75ac60cdce09f3628ee5797cb1088f02e5",
        "scrolled": true,
        "id": "IRbCC_gMjoeB"
      },
      "cell_type": "code",
      "source": [
        "max_len = 0\n",
        "\n",
        "for i in sentences:\n",
        "    i = i.split()\n",
        "    if len(i) > max_len:\n",
        "        max_len = len(i)\n",
        "\n",
        "print(max_len)"
      ],
      "execution_count": null,
      "outputs": []
    },
    {
      "metadata": {
        "trusted": true,
        "_uuid": "a42a7cf8e3aad67f1c750e0c8490ca211c85dbee",
        "id": "WdvaYHffjoeB"
      },
      "cell_type": "code",
      "source": [
        "padded_sequences, subsequent_words = [], []\n",
        "\n",
        "for ix in range(ds.shape[0]):\n",
        "    partial_seqs = []\n",
        "    next_words = []\n",
        "    text = ds[ix, 1].split()\n",
        "    text = [word_2_indices[i] for i in text]\n",
        "    for i in range(1, len(text)):\n",
        "        partial_seqs.append(text[:i])\n",
        "        next_words.append(text[i])\n",
        "    padded_partial_seqs = sequence.pad_sequences(partial_seqs, max_len, padding='post')\n",
        "\n",
        "    next_words_1hot = np.zeros([len(next_words), vocab_size], dtype=np.bool)\n",
        "\n",
        "    #Vectorization\n",
        "    for i,next_word in enumerate(next_words):\n",
        "        next_words_1hot[i, next_word] = 1\n",
        "\n",
        "    padded_sequences.append(padded_partial_seqs)\n",
        "    subsequent_words.append(next_words_1hot)\n",
        "\n",
        "padded_sequences = np.asarray(padded_sequences)\n",
        "subsequent_words = np.asarray(subsequent_words)\n",
        "\n",
        "print(padded_sequences.shape)\n",
        "print(subsequent_words.shape)"
      ],
      "execution_count": null,
      "outputs": []
    },
    {
      "metadata": {
        "trusted": true,
        "_uuid": "09373074d19bd3c6784f9bb1ba832e18757e5866",
        "id": "MeQOuMuejoeB"
      },
      "cell_type": "code",
      "source": [
        "print(padded_sequences[0])"
      ],
      "execution_count": null,
      "outputs": []
    },
    {
      "metadata": {
        "trusted": true,
        "_uuid": "d645ff6f92906aa9b54da013ef3bdfe8d0db9b11",
        "id": "j7TEPgt7joeB"
      },
      "cell_type": "code",
      "source": [
        "for ix in range(len(padded_sequences[0])):\n",
        "    for iy in range(max_len):\n",
        "        print(indices_2_word[padded_sequences[0][ix][iy]],)\n",
        "    print(\"\\n\")\n",
        "\n",
        "print(len(padded_sequences[0]))"
      ],
      "execution_count": null,
      "outputs": []
    },
    {
      "metadata": {
        "trusted": true,
        "_uuid": "e6684d2f913fe0b7a91a0157ffc5429544ded4a3",
        "id": "OXXLZK3sjoeB"
      },
      "cell_type": "code",
      "source": [
        "num_of_images = 2000"
      ],
      "execution_count": null,
      "outputs": []
    },
    {
      "metadata": {
        "trusted": true,
        "_uuid": "a85536f1ac94df3691b958a6ecdac7791b4f4330",
        "id": "2FbRnXOTjoeB"
      },
      "cell_type": "code",
      "source": [
        "captions = np.zeros([0, max_len])\n",
        "next_words = np.zeros([0, vocab_size])"
      ],
      "execution_count": null,
      "outputs": []
    },
    {
      "metadata": {
        "trusted": true,
        "_uuid": "e32cac59ecebb0bcab5a0838bec8aa7147dccdd3",
        "id": "ocJC5AXFjoeB"
      },
      "cell_type": "code",
      "source": [
        "for ix in range(num_of_images):#img_to_padded_seqs.shape[0]):\n",
        "    captions = np.concatenate([captions, padded_sequences[ix]])\n",
        "    next_words = np.concatenate([next_words, subsequent_words[ix]])\n",
        "\n",
        "np.save(\"captions.npy\", captions)\n",
        "np.save(\"next_words.npy\", next_words)\n",
        "\n",
        "print(captions.shape)\n",
        "print(next_words.shape)"
      ],
      "execution_count": null,
      "outputs": []
    },
    {
      "metadata": {
        "trusted": true,
        "_uuid": "02028d4bfa3e1d80b0b796f88c31f2ae4096f54e",
        "id": "mnsvLCrVjoeC"
      },
      "cell_type": "code",
      "source": [
        "with open('../input/train_encoded_images.p', 'rb') as f:\n",
        "    encoded_images = pickle.load(f, encoding=\"bytes\")"
      ],
      "execution_count": null,
      "outputs": []
    },
    {
      "metadata": {
        "trusted": true,
        "_uuid": "b526815565544abf9bd16d2ad0a1071947b75144",
        "id": "QBvnJTa3joeC"
      },
      "cell_type": "code",
      "source": [
        "imgs = []\n",
        "\n",
        "for ix in range(ds.shape[0]):\n",
        "    if ds[ix, 0].encode() in encoded_images.keys():\n",
        "#         print(ix, encoded_images[ds[ix, 0].encode()])\n",
        "        imgs.append(list(encoded_images[ds[ix, 0].encode()]))\n",
        "\n",
        "imgs = np.asarray(imgs)\n",
        "print(imgs.shape)"
      ],
      "execution_count": null,
      "outputs": []
    },
    {
      "metadata": {
        "trusted": true,
        "_uuid": "cda0d325b7e402d20b254d4e5939c9b0327b8e87",
        "id": "cx4ehDyPjoeC"
      },
      "cell_type": "code",
      "source": [
        "images = []\n",
        "\n",
        "for ix in range(num_of_images):\n",
        "    for iy in range(padded_sequences[ix].shape[0]):\n",
        "        images.append(imgs[ix])\n",
        "\n",
        "images = np.asarray(images)\n",
        "\n",
        "np.save(\"images.npy\", images)\n",
        "\n",
        "print(images.shape)"
      ],
      "execution_count": null,
      "outputs": []
    },
    {
      "metadata": {
        "trusted": true,
        "_uuid": "678062934e0778d878909f3de636dc614fc9c6eb",
        "id": "VfWTDEkQjoeC"
      },
      "cell_type": "code",
      "source": [
        "image_names = []\n",
        "\n",
        "for ix in range(num_of_images):\n",
        "    for iy in range(padded_sequences[ix].shape[0]):\n",
        "        image_names.append(ds[ix, 0])\n",
        "\n",
        "image_names = np.asarray(image_names)\n",
        "\n",
        "np.save(\"image_names.npy\", image_names)\n",
        "\n",
        "print(len(image_names))"
      ],
      "execution_count": null,
      "outputs": []
    },
    {
      "metadata": {
        "_uuid": "20bdfb97e1fe5e0975bbddfbbd0b6591c63e2590",
        "id": "EjLx8lzWjoeC"
      },
      "cell_type": "markdown",
      "source": [
        "###  **Model**"
      ]
    },
    {
      "metadata": {
        "trusted": true,
        "_uuid": "08b9b60342c0fccdda6a848b01042435420e5eda",
        "id": "R1U_-oB3joeD"
      },
      "cell_type": "code",
      "source": [
        "captions = np.load(\"captions.npy\")\n",
        "next_words = np.load(\"next_words.npy\")\n",
        "\n",
        "print(captions.shape)\n",
        "print(next_words.shape)"
      ],
      "execution_count": null,
      "outputs": []
    },
    {
      "metadata": {
        "trusted": true,
        "_uuid": "d697bdbda67ca8a545f71f195dbd6f2b32158406",
        "id": "iEADEJtwjoeD"
      },
      "cell_type": "code",
      "source": [
        "images = np.load(\"images.npy\")\n",
        "\n",
        "print(images.shape)"
      ],
      "execution_count": null,
      "outputs": []
    },
    {
      "metadata": {
        "trusted": true,
        "_uuid": "060ebdd5bec757c5a8ad7014978dbdde00b5ef04",
        "id": "YKL35qubjoeE"
      },
      "cell_type": "code",
      "source": [
        "imag = np.load(\"image_names.npy\")\n",
        "\n",
        "print(imag.shape)"
      ],
      "execution_count": null,
      "outputs": []
    },
    {
      "metadata": {
        "trusted": true,
        "_uuid": "1cd12f3c270d2e1eef4ae3943ca3ef08d6938848",
        "id": "DPqtk1lXjoeE"
      },
      "cell_type": "code",
      "source": [
        "embedding_size = 128\n",
        "max_len = 40"
      ],
      "execution_count": null,
      "outputs": []
    },
    {
      "metadata": {
        "trusted": true,
        "_uuid": "efc916915e0ba0cf6fdd2809d46be036c84fb139",
        "id": "StMUI4tCjoeE"
      },
      "cell_type": "code",
      "source": [
        "image_model = Sequential()\n",
        "\n",
        "image_model.add(Dense(embedding_size, input_shape=(2048,), activation='relu'))\n",
        "image_model.add(RepeatVector(max_len))\n",
        "\n",
        "image_model.summary()"
      ],
      "execution_count": null,
      "outputs": []
    },
    {
      "metadata": {
        "trusted": true,
        "_uuid": "5cf54037a1ea92489312001dbd3c130ae635e940",
        "id": "VphDnn_ujoeF"
      },
      "cell_type": "code",
      "source": [
        "language_model = Sequential()\n",
        "\n",
        "language_model.add(Embedding(input_dim=vocab_size, output_dim=embedding_size, input_length=max_len))\n",
        "language_model.add(LSTM(256, return_sequences=True))\n",
        "language_model.add(TimeDistributed(Dense(embedding_size)))\n",
        "\n",
        "language_model.summary()"
      ],
      "execution_count": null,
      "outputs": []
    },
    {
      "metadata": {
        "trusted": true,
        "_uuid": "dd6d7b4455ced9778ad57a3ed7a38728eea42247",
        "id": "8Zm8APNzjoeF"
      },
      "cell_type": "code",
      "source": [
        "conca = Concatenate()([image_model.output, language_model.output])\n",
        "x = LSTM(128, return_sequences=True)(conca)\n",
        "x = LSTM(512, return_sequences=False)(x)\n",
        "x = Dense(vocab_size)(x)\n",
        "out = Activation('softmax')(x)\n",
        "model = Model(inputs=[image_model.input, language_model.input], outputs = out)\n",
        "\n",
        "# model.load_weights(\"../input/model_weights.h5\")\n",
        "model.compile(loss='categorical_crossentropy', optimizer='RMSprop', metrics=['accuracy'])\n",
        "model.summary()"
      ],
      "execution_count": null,
      "outputs": []
    },
    {
      "metadata": {
        "scrolled": true,
        "trusted": true,
        "_uuid": "3e249d667ba7198e22fa20de78f3d8058baa9dd3",
        "id": "iIRvi38mjoeF"
      },
      "cell_type": "code",
      "source": [
        "hist = model.fit([images, captions], next_words, batch_size=512, epochs=200)"
      ],
      "execution_count": null,
      "outputs": []
    },
    {
      "metadata": {
        "trusted": true,
        "_uuid": "97f7316a6340f1776b5fbd3175a9d90e17d885aa",
        "id": "cLwaTa6IjoeF"
      },
      "cell_type": "code",
      "source": [
        "model.save_weights(\"model_weights.h5\")"
      ],
      "execution_count": null,
      "outputs": []
    },
    {
      "metadata": {
        "_uuid": "2146e3152e522d8ffafd29d8df8becaa04721552",
        "id": "Mc3rz0YPjoeF"
      },
      "cell_type": "markdown",
      "source": [
        "### Predictions"
      ]
    },
    {
      "metadata": {
        "trusted": true,
        "_uuid": "6e67941c74369e855681b6fb16fecbd680bacebb",
        "id": "yke98DI-joeG"
      },
      "cell_type": "code",
      "source": [
        "def preprocessing(img_path):\n",
        "    im = image.load_img(img_path, target_size=(224,224,3))\n",
        "    im = image.img_to_array(im)\n",
        "    im = np.expand_dims(im, axis=0)\n",
        "    return im"
      ],
      "execution_count": null,
      "outputs": []
    },
    {
      "metadata": {
        "trusted": true,
        "_uuid": "1634b8e436f0db618937db0146ba2ee6e14989af",
        "id": "iNtko9AKjoeG"
      },
      "cell_type": "code",
      "source": [
        "def get_encoding(model, img):\n",
        "    image = preprocessing(img)\n",
        "    pred = model.predict(image).reshape(2048)\n",
        "    return pred"
      ],
      "execution_count": null,
      "outputs": []
    },
    {
      "metadata": {
        "trusted": true,
        "_uuid": "af447476805eb38dfcc9ee2a2cbee283d628a0f1",
        "id": "U8STmFokjoeG"
      },
      "cell_type": "code",
      "source": [
        "resnet = ResNet50(include_top=False,weights='imagenet',input_shape=(224,224,3),pooling='avg')"
      ],
      "execution_count": null,
      "outputs": []
    },
    {
      "metadata": {
        "trusted": true,
        "_uuid": "90c83e00652b81ad6d352b7bda37e031148a6dba",
        "id": "BjeAREjqjoeG"
      },
      "cell_type": "code",
      "source": [
        "img = \"../input/flickr_data/Flickr_Data/Images/1453366750_6e8cf601bf.jpg\"\n",
        "\n",
        "test_img = get_encoding(resnet, img)"
      ],
      "execution_count": null,
      "outputs": []
    },
    {
      "metadata": {
        "trusted": true,
        "_uuid": "1323e6c6436c9b71303f4429522a693dd8213a5a",
        "id": "4TKVh91ljoeG"
      },
      "cell_type": "code",
      "source": [
        "def predict_captions(image):\n",
        "    start_word = [\"<start>\"]\n",
        "    while True:\n",
        "        par_caps = [word_2_indices[i] for i in start_word]\n",
        "        par_caps = sequence.pad_sequences([par_caps], maxlen=max_len, padding='post')\n",
        "        preds = model.predict([np.array([image]), np.array(par_caps)])\n",
        "        word_pred = indices_2_word[np.argmax(preds[0])]\n",
        "        start_word.append(word_pred)\n",
        "\n",
        "        if word_pred == \"<end>\" or len(start_word) > max_len:\n",
        "            break\n",
        "\n",
        "    return ' '.join(start_word[1:-1])\n",
        "\n",
        "Argmax_Search = predict_captions(test_img)"
      ],
      "execution_count": null,
      "outputs": []
    },
    {
      "metadata": {
        "trusted": true,
        "_uuid": "76fe5dfea37475cacfe0c463da20cba1e5e288b5",
        "id": "6WeqMh-VjoeG"
      },
      "cell_type": "code",
      "source": [
        "z = Image(filename=img)\n",
        "display(z)\n",
        "\n",
        "print(Argmax_Search)"
      ],
      "execution_count": null,
      "outputs": []
    }
  ],
  "metadata": {
    "kernelspec": {
      "display_name": "Python 3",
      "language": "python",
      "name": "python3"
    },
    "language_info": {
      "name": "python",
      "version": "3.6.6",
      "mimetype": "text/x-python",
      "codemirror_mode": {
        "name": "ipython",
        "version": 3
      },
      "pygments_lexer": "ipython3",
      "nbconvert_exporter": "python",
      "file_extension": ".py"
    },
    "colab": {
      "name": "Automated Image Captioning (Flickr8)",
      "provenance": [],
      "include_colab_link": true
    }
  },
  "nbformat": 4,
  "nbformat_minor": 0
}